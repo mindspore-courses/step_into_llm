{
 "cells": [
  {
   "cell_type": "markdown",
   "metadata": {},
   "source": [
    "# MindSpore2.4版本在启智社区昇腾环境的适配（大模型案例-bert）\n",
    "镜像：mindspore_2_3_910b_cann8\n",
    "\n",
    "原始链接：https://pangu.huaweicloud.com/gallery/asset-detail.html?id=5443b528-0dd5-4909-ac4f-1c9cf839e2aa"
   ]
  },
  {
   "cell_type": "markdown",
   "metadata": {},
   "source": [
    "## 环境配置"
   ]
  },
  {
   "cell_type": "markdown",
   "metadata": {},
   "source": [
    "安装MindSpore框架和MindNLP套件pip install https://ms-release.obs.cn-north-4.myhuaweicloud.com/2.4.1/MindSpore/unified/aarch64/mindspore-2.4.1-cp39-cp39-linux_aarch64.whl --trusted-host ms-release.obs.cn-north-4.myhuaweicloud.com -i https://pypi.tuna.tsinghua.edu.cn/simple"
   ]
  },
  {
   "cell_type": "code",
   "execution_count": null,
   "metadata": {},
   "outputs": [],
   "source": [
    "!pip install https://ms-release.obs.cn-north-4.myhuaweicloud.com/2.4.1/MindSpore/unified/aarch64/mindspore-2.4.1-cp39-cp39-linux_aarch64.whl --trusted-host ms-release.obs.cn-north-4.myhuaweicloud.com -i https://pypi.tuna.tsinghua.edu.cn/simple"
   ]
  },
  {
   "cell_type": "code",
   "execution_count": null,
   "metadata": {},
   "outputs": [],
   "source": [
    "!pip install mindnlp"
   ]
  },
  {
   "cell_type": "markdown",
   "metadata": {},
   "source": [
    "#### 注：MindNLP whl包下载链接为：[MindNLP](https://repo.mindspore.cn/mindspore-lab/mindnlp/newest/any/)"
   ]
  },
  {
   "cell_type": "markdown",
   "metadata": {},
   "source": [
    "# 基于 MindSpore 实现 BERT 对话情绪识别\n",
    "\n",
    "\n",
    "## 模型简介\n",
    "\n",
    "BERT全称是来自变换器的双向编码器表征量（Bidirectional Encoder Representations from Transformers），它是Google于2018年末开发并发布的一种新型语言模型。与BERT模型相似的预训练语言模型例如问答、命名实体识别、自然语言推理、文本分类等在许多自然语言处理任务中发挥着重要作用。模型是基于Transformer中的Encoder并加上双向的结构，因此一定要熟练掌握Transformer的Encoder的结构。\n",
    "\n",
    "BERT模型的主要创新点都在pre-train方法上，即用了Masked Language Model和Next Sentence Prediction两种方法分别捕捉词语和句子级别的representation。\n",
    "\n",
    "在用Masked Language Model方法训练BERT的时候，随机把语料库中15%的单词做Mask操作。对于这15%的单词做Mask操作分为三种情况：80%的单词直接用[Mask]替换、10%的单词直接替换成另一个新的单词、10%的单词保持不变。\n",
    "\n",
    "因为涉及到Question Answering (QA) 和 Natural Language Inference (NLI)之类的任务，增加了Next Sentence Prediction预训练任务，目的是让模型理解两个句子之间的联系。与Masked Language Model任务相比，Next Sentence Prediction更简单些，训练的输入是句子A和B，B有一半的几率是A的下一句，输入这两个句子，BERT模型预测B是不是A的下一句。\n",
    "\n",
    "BERT预训练之后，会保存它的Embedding table和12层Transformer权重（BERT-BASE）或24层Transformer权重（BERT-LARGE）。使用预训练好的BERT模型可以对下游任务进行Fine-tuning，比如：文本分类、相似度判断、阅读理解等。\n",
    "\n",
    "对话情绪识别（Emotion Detection，简称EmoTect），专注于识别智能对话场景中用户的情绪，针对智能对话场景中的用户文本，自动判断该文本的情绪类别并给出相应的置信度，情绪类型分为积极、消极、中性。 对话情绪识别适用于聊天、客服等多个场景，能够帮助企业更好地把握对话质量、改善产品的用户交互体验，也能分析客服服务质量、降低人工质检成本。\n",
    "\n",
    "下面以一个文本情感分类任务为例子来说明BERT模型的整个应用过程。"
   ]
  },
  {
   "cell_type": "code",
   "execution_count": 16,
   "metadata": {
    "tags": []
   },
   "outputs": [],
   "source": [
    "import os\n",
    "\n",
    "import mindspore\n",
    "from mindspore.dataset import text, GeneratorDataset, transforms\n",
    "from mindspore import nn, context\n",
    "\n",
    "from mindnlp.engine.trainer import Trainer"
   ]
  },
  {
   "cell_type": "code",
   "execution_count": 2,
   "metadata": {
    "tags": []
   },
   "outputs": [],
   "source": [
    "# prepare dataset\n",
    "class SentimentDataset:\n",
    "    \"\"\"Sentiment Dataset\"\"\"\n",
    "\n",
    "    def __init__(self, path):\n",
    "        self.path = path\n",
    "        self._labels, self._text_a = [], []\n",
    "        self._load()\n",
    "\n",
    "    def _load(self):\n",
    "        with open(self.path, \"r\", encoding=\"utf-8\") as f:\n",
    "            dataset = f.read()\n",
    "        lines = dataset.split(\"\\n\")\n",
    "        for line in lines[1:-1]:\n",
    "            label, text_a = line.split(\"\\t\")\n",
    "            self._labels.append(int(label))\n",
    "            self._text_a.append(text_a)\n",
    "\n",
    "    def __getitem__(self, index):\n",
    "        return self._labels[index], self._text_a[index]\n",
    "\n",
    "    def __len__(self):\n",
    "        return len(self._labels)"
   ]
  },
  {
   "cell_type": "markdown",
   "metadata": {},
   "source": [
    "## 数据集\n",
    "\n",
    "这里提供一份已标注的、经过分词预处理的机器人聊天数据集，来自于百度飞桨团队。数据由两列组成，以制表符（'\\t'）分隔，第一列是情绪分类的类别（0表示消极；1表示中性；2表示积极），第二列是以空格分词的中文文本，如下示例，文件为 utf8 编码。\n",
    "\n",
    "label--text_a\n",
    "\n",
    "0--谁骂人了？我从来不骂人，我骂的都不是人，你是人吗 ？\n",
    "\n",
    "1--我有事等会儿就回来和你聊\n",
    "\n",
    "2--我见到你很高兴谢谢你帮我\n",
    "\n",
    "这部分主要包括数据集读取，数据格式转换，数据 Tokenize 处理和 pad 操作。"
   ]
  },
  {
   "cell_type": "code",
   "execution_count": 3,
   "metadata": {
    "tags": []
   },
   "outputs": [
    {
     "name": "stdout",
     "output_type": "stream",
     "text": [
      "--2024-12-22 20:58:44--  https://baidu-nlp.bj.bcebos.com/emotion_detection-dataset-1.0.0.tar.gz\n",
      "Resolving proxy-notebook.modelarts.com (proxy-notebook.modelarts.com)... 192.168.5.77\n",
      "Connecting to proxy-notebook.modelarts.com (proxy-notebook.modelarts.com)|192.168.5.77|:8083... connected.\n",
      "Proxy request sent, awaiting response... 200 OK\n",
      "Length: 1710581 (1.6M) [application/x-gzip]\n",
      "Saving to: ‘emotion_detection.tar.gz’\n",
      "\n",
      "emotion_detection.t 100%[===================>]   1.63M  3.10MB/s    in 0.5s    \n",
      "\n",
      "2024-12-22 20:58:48 (3.10 MB/s) - ‘emotion_detection.tar.gz’ saved [1710581/1710581]\n",
      "\n",
      "data/\n",
      "data/test.tsv\n",
      "data/infer.tsv\n",
      "data/dev.tsv\n",
      "data/train.tsv\n",
      "data/vocab.txt\n"
     ]
    }
   ],
   "source": [
    "# download dataset\n",
    "!wget https://baidu-nlp.bj.bcebos.com/emotion_detection-dataset-1.0.0.tar.gz -O emotion_detection.tar.gz\n",
    "!tar xvf emotion_detection.tar.gz"
   ]
  },
  {
   "cell_type": "markdown",
   "metadata": {},
   "source": [
    "### 数据加载和数据预处理\n",
    "\n",
    "新建 process_dataset 函数用于数据加载和数据预处理，具体内容可见下面代码注释。"
   ]
  },
  {
   "cell_type": "code",
   "execution_count": 4,
   "metadata": {
    "tags": []
   },
   "outputs": [],
   "source": [
    "import numpy as np\n",
    "\n",
    "def process_dataset(source, tokenizer, max_seq_len=64, batch_size=32, shuffle=True):\n",
    "    is_ascend = mindspore.get_context('device_target') == 'Ascend'\n",
    "\n",
    "    column_names = [\"label\", \"text_a\"]\n",
    "    \n",
    "    dataset = GeneratorDataset(source, column_names=column_names, shuffle=shuffle)\n",
    "    # transforms\n",
    "    type_cast_op = transforms.TypeCast(mindspore.int32)\n",
    "    def tokenize_and_pad(text):\n",
    "        if is_ascend:\n",
    "            tokenized = tokenizer(text, padding='max_length', truncation=True, max_length=max_seq_len)\n",
    "        else:\n",
    "            tokenized = tokenizer(text)\n",
    "        return tokenized['input_ids'], tokenized['attention_mask']\n",
    "    # map dataset\n",
    "    dataset = dataset.map(operations=tokenize_and_pad, input_columns=\"text_a\", output_columns=['input_ids', 'attention_mask'])\n",
    "    dataset = dataset.map(operations=[type_cast_op], input_columns=\"label\", output_columns='labels')\n",
    "    # batch dataset\n",
    "    if is_ascend:\n",
    "        dataset = dataset.batch(batch_size)\n",
    "    else:\n",
    "        dataset = dataset.padded_batch(batch_size, pad_info={'input_ids': (None, tokenizer.pad_token_id),\n",
    "                                                         'attention_mask': (None, 0)})\n",
    "\n",
    "    return dataset"
   ]
  },
  {
   "cell_type": "markdown",
   "metadata": {},
   "source": [
    "昇腾NPU环境下暂不支持动态Shape，数据预处理部分采用静态Shape处理："
   ]
  },
  {
   "cell_type": "code",
   "execution_count": 6,
   "metadata": {
    "tags": []
   },
   "outputs": [
    {
     "name": "stderr",
     "output_type": "stream",
     "text": [
      "263kB [00:02, 110kB/s]  \n",
      "624B [00:00, 1.72kB/s]                   \n",
      "/home/ma-user/anaconda3/envs/MindSpore/lib/python3.9/site-packages/mindnlp/transformers/tokenization_utils_base.py:1526: FutureWarning: `clean_up_tokenization_spaces` was not set. It will be set to `True` by default. This behavior will be depracted, and will be then set to `False` by default. \n",
      "  warnings.warn(\n"
     ]
    }
   ],
   "source": [
    "from mindnlp.transformers import BertTokenizer\n",
    "tokenizer = BertTokenizer.from_pretrained('bert-base-chinese')"
   ]
  },
  {
   "cell_type": "code",
   "execution_count": 7,
   "metadata": {},
   "outputs": [
    {
     "data": {
      "text/plain": [
       "0"
      ]
     },
     "execution_count": 7,
     "metadata": {},
     "output_type": "execute_result"
    }
   ],
   "source": [
    "tokenizer.pad_token_id"
   ]
  },
  {
   "cell_type": "code",
   "execution_count": 8,
   "metadata": {
    "tags": []
   },
   "outputs": [],
   "source": [
    "dataset_train = process_dataset(SentimentDataset(\"data/train.tsv\"), tokenizer)\n",
    "dataset_val = process_dataset(SentimentDataset(\"data/dev.tsv\"), tokenizer)\n",
    "dataset_test = process_dataset(SentimentDataset(\"data/test.tsv\"), tokenizer, shuffle=False)"
   ]
  },
  {
   "cell_type": "code",
   "execution_count": 9,
   "metadata": {
    "tags": []
   },
   "outputs": [
    {
     "data": {
      "text/plain": [
       "['input_ids', 'attention_mask', 'labels']"
      ]
     },
     "execution_count": 9,
     "metadata": {},
     "output_type": "execute_result"
    }
   ],
   "source": [
    "dataset_train.get_col_names()"
   ]
  },
  {
   "cell_type": "code",
   "execution_count": 10,
   "metadata": {},
   "outputs": [
    {
     "name": "stdout",
     "output_type": "stream",
     "text": [
      "[Tensor(shape=[32, 64], dtype=Int64, value=\n",
      "[[ 101,  679, 6206 ...    0,    0,    0],\n",
      " [ 101, 2207, 1435 ...    0,    0,    0],\n",
      " [ 101,  782, 1762 ...    0,    0,    0],\n",
      " ...\n",
      " [ 101, 6929, 2769 ...    0,    0,    0],\n",
      " [ 101, 2218, 3221 ...    0,    0,    0],\n",
      " [ 101, 2398, 1788 ...    0,    0,    0]]), Tensor(shape=[32, 64], dtype=Int64, value=\n",
      "[[1, 1, 1 ... 0, 0, 0],\n",
      " [1, 1, 1 ... 0, 0, 0],\n",
      " [1, 1, 1 ... 0, 0, 0],\n",
      " ...\n",
      " [1, 1, 1 ... 0, 0, 0],\n",
      " [1, 1, 1 ... 0, 0, 0],\n",
      " [1, 1, 1 ... 0, 0, 0]]), Tensor(shape=[32], dtype=Int32, value= [1, 1, 1, 1, 0, 1, 1, 2, 2, 2, 1, 1, 1, 1, 1, 1, 2, 0, 1, 1, 1, 1, 1, 1, \n",
      " 1, 0, 1, 1, 0, 1, 1, 1])]\n"
     ]
    }
   ],
   "source": [
    "print(next(dataset_train.create_tuple_iterator()))"
   ]
  },
  {
   "cell_type": "code",
   "execution_count": 13,
   "metadata": {},
   "outputs": [
    {
     "name": "stdout",
     "output_type": "stream",
     "text": [
      "env: HF_ENDPOINT=https://hf-mirror.com\n"
     ]
    }
   ],
   "source": [
    "%env HF_ENDPOINT=https://hf-mirror.com"
   ]
  },
  {
   "cell_type": "markdown",
   "metadata": {},
   "source": [
    "## 模型构建\n",
    "\n",
    "通过 BertForSequenceClassification 构建用于情感分类的 BERT 模型，加载预训练权重，设置情感三分类的超参数自动构建模型。后面对模型采用自动混合精度操作，提高训练的速度，然后实例化优化器，紧接着实例化评价指标，设置模型训练的权重保存策略，最后就是构建训练器，模型开始训练。"
   ]
  },
  {
   "cell_type": "code",
   "execution_count": 15,
   "metadata": {
    "tags": []
   },
   "outputs": [
    {
     "name": "stderr",
     "output_type": "stream",
     "text": [
      "100%|██████████| 392M/392M [01:31<00:00, 4.49MB/s] \n",
      "[WARNING] DEVICE(44758,ffffb9d8f010,python):2024-12-22-21:07:28.842.290 [mindspore/ccsrc/plugin/device/ascend/hal/device/ascend_vmm_adapter.h:188] CheckVmmDriverVersion] Driver version is less than 24.0.0, vmm is disabled by default, drvier_version: 23.0.rc2.2\n",
      "Some weights of BertForSequenceClassification were not initialized from the model checkpoint at bert-base-chinese and are newly initialized: ['classifier.bias', 'classifier.weight']\n",
      "You should probably TRAIN this model on a down-stream task to be able to use it for predictions and inference.\n"
     ]
    }
   ],
   "source": [
    "from mindnlp.transformers import BertForSequenceClassification, BertModel\n",
    "\n",
    "# set bert config and define parameters for training\n",
    "model = BertForSequenceClassification.from_pretrained('bert-base-chinese', num_labels=3)"
   ]
  },
  {
   "cell_type": "code",
   "execution_count": 17,
   "metadata": {},
   "outputs": [
    {
     "name": "stderr",
     "output_type": "stream",
     "text": [
      "Downloading builder script: 4.20kB [00:00, 6.48MB/s]\n"
     ]
    }
   ],
   "source": [
    "import evaluate\n",
    "import numpy as np\n",
    "from mindnlp.engine.utils import EvalPrediction\n",
    "\n",
    "metric = evaluate.load(\"accuracy\")\n",
    "\n",
    "def compute_metrics(eval_pred: EvalPrediction):\n",
    "    logits, labels = eval_pred\n",
    "    predictions = np.argmax(logits, axis=-1)\n",
    "    return metric.compute(predictions=predictions, references=labels)"
   ]
  },
  {
   "cell_type": "code",
   "execution_count": 18,
   "metadata": {
    "tags": []
   },
   "outputs": [],
   "source": [
    "from mindnlp.engine import TrainingArguments\n",
    "\n",
    "training_args = TrainingArguments(\n",
    "    \"./output\",\n",
    "    per_device_train_batch_size=1,\n",
    "    per_device_eval_batch_size=1,\n",
    "    learning_rate=2e-5,\n",
    "    num_train_epochs=5,\n",
    "    logging_steps=200,\n",
    "    evaluation_strategy='epoch',\n",
    "    save_strategy='epoch'\n",
    ")\n",
    "\n",
    "trainer = Trainer(model=model, train_dataset=dataset_train,\n",
    "                  eval_dataset=dataset_val, compute_metrics=compute_metrics,\n",
    "                  args=training_args)"
   ]
  },
  {
   "cell_type": "code",
   "execution_count": 19,
   "metadata": {
    "tags": []
   },
   "outputs": [
    {
     "name": "stderr",
     "output_type": "stream",
     "text": [
      "  0%|          | 0/1510 [00:00<?, ?it/s]"
     ]
    },
    {
     "name": "stdout",
     "output_type": "stream",
     "text": [
      "\\\r"
     ]
    },
    {
     "name": "stderr",
     "output_type": "stream",
     "text": [
      "  0%|          | 1/1510 [00:29<12:17:07, 29.31s/it]"
     ]
    },
    {
     "name": "stdout",
     "output_type": "stream",
     "text": [
      "/\r"
     ]
    },
    {
     "name": "stderr",
     "output_type": "stream",
     "text": [
      " 13%|█▎        | 200/1510 [02:36<06:48,  3.21it/s] "
     ]
    },
    {
     "name": "stdout",
     "output_type": "stream",
     "text": [
      "{'loss': 0.3837, 'learning_rate': 1.7350993377483446e-05, 'epoch': 0.66}\n",
      "-\r"
     ]
    },
    {
     "name": "stderr",
     "output_type": "stream",
     "text": [
      " 20%|██        | 302/1510 [03:17<06:08,  3.28it/s]  \n",
      "  0%|          | 0/34 [00:00<?, ?it/s]\u001b[A"
     ]
    },
    {
     "name": "stdout",
     "output_type": "stream",
     "text": [
      "\\\r"
     ]
    },
    {
     "name": "stderr",
     "output_type": "stream",
     "text": [
      "\n",
      "  6%|▌         | 2/34 [00:00<00:14,  2.22it/s]\u001b[A\n",
      " 18%|█▊        | 6/34 [00:01<00:03,  7.23it/s]\u001b[A\n",
      " 29%|██▉       | 10/34 [00:01<00:01, 12.20it/s]\u001b[A\n",
      " 41%|████      | 14/34 [00:01<00:01, 16.78it/s]\u001b[A\n",
      " 53%|█████▎    | 18/34 [00:01<00:00, 20.76it/s]\u001b[A\n",
      " 65%|██████▍   | 22/34 [00:01<00:00, 24.06it/s]\u001b[A\n",
      " 76%|███████▋  | 26/34 [00:01<00:00, 26.53it/s]\u001b[A\n",
      " 88%|████████▊ | 30/34 [00:01<00:00, 28.45it/s]\u001b[A\n",
      "100%|██████████| 34/34 [00:01<00:00, 29.55it/s]\u001b[A\n",
      "                                                  \n",
      " 20%|██        | 302/1510 [03:19<06:08,  3.28it/s]\n",
      "                                               \u001b[A"
     ]
    },
    {
     "name": "stdout",
     "output_type": "stream",
     "text": [
      "{'eval_loss': 0.19996021687984467, 'eval_accuracy': 0.9222222222222223, 'eval_runtime': 2.2801, 'eval_samples_per_second': 14.912, 'eval_steps_per_second': 14.912, 'epoch': 1.0}\n"
     ]
    },
    {
     "name": "stderr",
     "output_type": "stream",
     "text": [
      " 27%|██▋       | 401/1510 [04:02<05:59,  3.08it/s]  "
     ]
    },
    {
     "name": "stdout",
     "output_type": "stream",
     "text": [
      "{'loss': 0.2425, 'learning_rate': 1.4701986754966889e-05, 'epoch': 1.32}\n"
     ]
    },
    {
     "name": "stderr",
     "output_type": "stream",
     "text": [
      " 40%|███▉      | 600/1510 [05:08<05:04,  2.98it/s]"
     ]
    },
    {
     "name": "stdout",
     "output_type": "stream",
     "text": [
      "{'loss': 0.1781, 'learning_rate': 1.2052980132450332e-05, 'epoch': 1.99}\n"
     ]
    },
    {
     "name": "stderr",
     "output_type": "stream",
     "text": [
      " 40%|████      | 604/1510 [05:10<05:10,  2.92it/s]\n",
      "  0%|          | 0/34 [00:00<?, ?it/s]\u001b[A\n",
      "  6%|▌         | 2/34 [00:00<00:03,  8.93it/s]\u001b[A\n",
      "  9%|▉         | 3/34 [00:00<00:04,  7.19it/s]\u001b[A\n",
      " 18%|█▊        | 6/34 [00:00<00:02, 13.79it/s]\u001b[A\n",
      " 26%|██▋       | 9/34 [00:00<00:01, 18.24it/s]\u001b[A\n",
      " 35%|███▌      | 12/34 [00:00<00:01, 21.32it/s]\u001b[A\n",
      " 44%|████▍     | 15/34 [00:00<00:00, 23.27it/s]\u001b[A\n",
      " 53%|█████▎    | 18/34 [00:00<00:00, 24.75it/s]\u001b[A\n",
      " 62%|██████▏   | 21/34 [00:01<00:00, 25.79it/s]\u001b[A\n",
      " 71%|███████   | 24/34 [00:01<00:00, 26.52it/s]\u001b[A\n",
      " 79%|███████▉  | 27/34 [00:01<00:00, 27.04it/s]\u001b[A\n",
      " 88%|████████▊ | 30/34 [00:01<00:00, 27.17it/s]\u001b[A\n",
      "                                                  \n",
      " 40%|████      | 604/1510 [05:12<05:10,  2.92it/s]\n",
      "100%|██████████| 34/34 [00:01<00:00, 27.51it/s]\u001b[A\n",
      "                                               \u001b[A"
     ]
    },
    {
     "name": "stdout",
     "output_type": "stream",
     "text": [
      "{'eval_loss': 0.1088491827249527, 'eval_accuracy': 0.962037037037037, 'eval_runtime': 1.9455, 'eval_samples_per_second': 17.476, 'eval_steps_per_second': 17.476, 'epoch': 2.0}\n"
     ]
    },
    {
     "name": "stderr",
     "output_type": "stream",
     "text": [
      " 53%|█████▎    | 800/1510 [06:33<03:58,  2.98it/s]  "
     ]
    },
    {
     "name": "stdout",
     "output_type": "stream",
     "text": [
      "{'loss': 0.1271, 'learning_rate': 9.403973509933776e-06, 'epoch': 2.65}\n"
     ]
    },
    {
     "name": "stderr",
     "output_type": "stream",
     "text": [
      " 60%|██████    | 906/1510 [07:10<03:39,  2.76it/s]\n",
      "  0%|          | 0/34 [00:00<?, ?it/s]\u001b[A\n",
      "  6%|▌         | 2/34 [00:00<00:03,  9.57it/s]\u001b[A\n",
      "  9%|▉         | 3/34 [00:00<00:03,  9.45it/s]\u001b[A\n",
      " 18%|█▊        | 6/34 [00:00<00:01, 16.40it/s]\u001b[A\n",
      " 26%|██▋       | 9/34 [00:00<00:01, 20.44it/s]\u001b[A\n",
      " 35%|███▌      | 12/34 [00:00<00:00, 22.95it/s]\u001b[A\n",
      " 44%|████▍     | 15/34 [00:00<00:00, 24.61it/s]\u001b[A\n",
      " 53%|█████▎    | 18/34 [00:00<00:00, 25.64it/s]\u001b[A\n",
      " 62%|██████▏   | 21/34 [00:00<00:00, 26.28it/s]\u001b[A\n",
      " 71%|███████   | 24/34 [00:01<00:00, 26.67it/s]\u001b[A\n",
      " 79%|███████▉  | 27/34 [00:01<00:00, 27.05it/s]\u001b[A\n",
      " 88%|████████▊ | 30/34 [00:01<00:00, 27.36it/s]\u001b[A\n",
      "                                                  \n",
      " 60%|██████    | 906/1510 [07:12<03:39,  2.76it/s]\n",
      "100%|██████████| 34/34 [00:01<00:00, 27.49it/s]\u001b[A\n",
      "                                               \u001b[A"
     ]
    },
    {
     "name": "stdout",
     "output_type": "stream",
     "text": [
      "{'eval_loss': 0.08485417813062668, 'eval_accuracy': 0.9740740740740741, 'eval_runtime': 1.8622, 'eval_samples_per_second': 18.258, 'eval_steps_per_second': 18.258, 'epoch': 3.0}\n"
     ]
    },
    {
     "name": "stderr",
     "output_type": "stream",
     "text": [
      " 66%|██████▋   | 1001/1510 [07:55<02:46,  3.06it/s]"
     ]
    },
    {
     "name": "stdout",
     "output_type": "stream",
     "text": [
      "{'loss': 0.0982, 'learning_rate': 6.754966887417219e-06, 'epoch': 3.31}\n"
     ]
    },
    {
     "name": "stderr",
     "output_type": "stream",
     "text": [
      " 80%|███████▉  | 1201/1510 [09:00<01:38,  3.15it/s]"
     ]
    },
    {
     "name": "stdout",
     "output_type": "stream",
     "text": [
      "{'loss': 0.0792, 'learning_rate': 4.105960264900663e-06, 'epoch': 3.97}\n"
     ]
    },
    {
     "name": "stderr",
     "output_type": "stream",
     "text": [
      " 80%|████████  | 1208/1510 [09:02<01:35,  3.16it/s]\n",
      "  0%|          | 0/34 [00:00<?, ?it/s]\u001b[A\n",
      "  6%|▌         | 2/34 [00:00<00:03,  9.39it/s]\u001b[A\n",
      " 18%|█▊        | 6/34 [00:00<00:01, 19.97it/s]\u001b[A\n",
      " 29%|██▉       | 10/34 [00:00<00:00, 25.15it/s]\u001b[A\n",
      " 41%|████      | 14/34 [00:00<00:00, 28.09it/s]\u001b[A\n",
      " 53%|█████▎    | 18/34 [00:00<00:00, 29.88it/s]\u001b[A\n",
      " 65%|██████▍   | 22/34 [00:00<00:00, 31.11it/s]\u001b[A\n",
      " 76%|███████▋  | 26/34 [00:00<00:00, 31.90it/s]\u001b[A\n",
      " 88%|████████▊ | 30/34 [00:01<00:00, 32.37it/s]\u001b[A\n",
      "                                                   \n",
      " 80%|████████  | 1208/1510 [09:04<01:35,  3.16it/s]\n",
      "100%|██████████| 34/34 [00:01<00:00, 32.63it/s]\u001b[A\n",
      "                                               \u001b[A"
     ]
    },
    {
     "name": "stdout",
     "output_type": "stream",
     "text": [
      "{'eval_loss': 0.0441734604537487, 'eval_accuracy': 0.9851851851851852, 'eval_runtime': 1.655, 'eval_samples_per_second': 20.544, 'eval_steps_per_second': 20.544, 'epoch': 4.0}\n"
     ]
    },
    {
     "name": "stderr",
     "output_type": "stream",
     "text": [
      " 93%|█████████▎| 1401/1510 [10:18<00:34,  3.15it/s]"
     ]
    },
    {
     "name": "stdout",
     "output_type": "stream",
     "text": [
      "{'loss': 0.0533, 'learning_rate': 1.456953642384106e-06, 'epoch': 4.64}\n"
     ]
    },
    {
     "name": "stderr",
     "output_type": "stream",
     "text": [
      "100%|██████████| 1510/1510 [10:52<00:00,  3.24it/s]\n",
      "  0%|          | 0/34 [00:00<?, ?it/s]\u001b[A\n",
      "  6%|▌         | 2/34 [00:00<00:03,  8.95it/s]\u001b[A\n",
      "  9%|▉         | 3/34 [00:00<00:03,  8.94it/s]\u001b[A\n",
      " 21%|██        | 7/34 [00:00<00:01, 18.58it/s]\u001b[A\n",
      " 32%|███▏      | 11/34 [00:00<00:00, 24.10it/s]\u001b[A\n",
      " 44%|████▍     | 15/34 [00:00<00:00, 27.08it/s]\u001b[A\n",
      " 56%|█████▌    | 19/34 [00:00<00:00, 29.24it/s]\u001b[A\n",
      " 68%|██████▊   | 23/34 [00:00<00:00, 30.72it/s]\u001b[A\n",
      " 79%|███████▉  | 27/34 [00:01<00:00, 31.19it/s]\u001b[A\n",
      "                                                   \n",
      "100%|██████████| 1510/1510 [10:54<00:00,  3.24it/s]\n",
      "100%|██████████| 34/34 [00:01<00:00, 31.96it/s]\u001b[A\n",
      "                                               \u001b[A"
     ]
    },
    {
     "name": "stdout",
     "output_type": "stream",
     "text": [
      "{'eval_loss': 0.027823830023407936, 'eval_accuracy': 0.9907407407407407, 'eval_runtime': 1.6805, 'eval_samples_per_second': 20.233, 'eval_steps_per_second': 20.233, 'epoch': 5.0}\n"
     ]
    },
    {
     "name": "stderr",
     "output_type": "stream",
     "text": [
      "100%|██████████| 1510/1510 [11:04<00:00,  2.27it/s]"
     ]
    },
    {
     "name": "stdout",
     "output_type": "stream",
     "text": [
      "{'train_runtime': 664.4171, 'train_samples_per_second': 72.725, 'train_steps_per_second': 2.273, 'train_loss': 0.15793277854161547, 'epoch': 5.0}\n"
     ]
    },
    {
     "name": "stderr",
     "output_type": "stream",
     "text": [
      "\n"
     ]
    },
    {
     "data": {
      "text/plain": [
       "TrainOutput(global_step=1510, training_loss=0.15793277854161547, metrics={'train_runtime': 664.4171, 'train_samples_per_second': 72.725, 'train_steps_per_second': 2.273, 'train_loss': 0.15793277854161547, 'epoch': 5.0})"
      ]
     },
     "execution_count": 19,
     "metadata": {},
     "output_type": "execute_result"
    }
   ],
   "source": [
    "# start training\n",
    "# trainer.run(tgt_columns=\"labels\")\n",
    "trainer.train()"
   ]
  },
  {
   "cell_type": "markdown",
   "metadata": {},
   "source": [
    "## 模型验证\n",
    "\n",
    "将验证数据集加再进训练好的模型，对数据集进行验证，查看模型在验证数据上面的效果，此处的评价指标为准确率。"
   ]
  },
  {
   "cell_type": "code",
   "execution_count": 25,
   "metadata": {
    "tags": []
   },
   "outputs": [],
   "source": [
    "from tqdm import tqdm\n",
    "\n",
    "def compute_accuracy(logits, labels):\n",
    "    predictions = np.argmax(logits, axis=-1)\n",
    "    return metric.compute(predictions=predictions, references=labels)\n",
    "\n",
    "def evaluate_fn(model, test_dataset):\n",
    "    total = test_dataset.get_dataset_size()\n",
    "    epoch_acc = 0\n",
    "    step_total = 0\n",
    "    model.set_train(False)\n",
    "\n",
    "    with tqdm(total=total) as progress_bar:\n",
    "        for batch in test_dataset.create_dict_iterator():\n",
    "            label = batch.pop('labels')\n",
    "            logits = model(**batch).logits\n",
    "\n",
    "            acc = compute_accuracy(logits, label)['accuracy']\n",
    "            epoch_acc += acc\n",
    "            \n",
    "            step_total += 1\n",
    "            acc=epoch_acc/step_total\n",
    "\n",
    "    return acc"
   ]
  },
  {
   "cell_type": "code",
   "execution_count": 26,
   "metadata": {},
   "outputs": [
    {
     "name": "stderr",
     "output_type": "stream",
     "text": [
      "  0%|          | 0/34 [00:02<?, ?it/s]"
     ]
    },
    {
     "name": "stdout",
     "output_type": "stream",
     "text": [
      "Accuracy: 0.9908088235294118\n"
     ]
    },
    {
     "name": "stderr",
     "output_type": "stream",
     "text": [
      "\n"
     ]
    }
   ],
   "source": [
    "acc = evaluate_fn(model, dataset_val)\n",
    "print(f\"Accuracy: {acc}\")"
   ]
  },
  {
   "cell_type": "markdown",
   "metadata": {},
   "source": [
    "## 模型推理\n",
    "\n",
    "遍历推理数据集，将结果与标签进行统一展示。"
   ]
  },
  {
   "cell_type": "code",
   "execution_count": 29,
   "metadata": {
    "tags": []
   },
   "outputs": [],
   "source": [
    "dataset_infer = SentimentDataset(\"data/infer.tsv\")"
   ]
  },
  {
   "cell_type": "code",
   "execution_count": 30,
   "metadata": {
    "tags": []
   },
   "outputs": [],
   "source": [
    "def predict(text, label=None):\n",
    "    label_map = {0: \"消极\", 1: \"中性\", 2: \"积极\"}\n",
    "\n",
    "    text_tokenized = Tensor([tokenizer(text).input_ids])\n",
    "    logits = model(text_tokenized)\n",
    "    predict_label = logits[0].asnumpy().argmax()\n",
    "    info = f\"inputs: '{text}', predict: '{label_map[predict_label]}'\"\n",
    "    if label is not None:\n",
    "        info += f\" , label: '{label_map[label]}'\"\n",
    "    print(info)"
   ]
  },
  {
   "cell_type": "code",
   "execution_count": 31,
   "metadata": {
    "tags": []
   },
   "outputs": [
    {
     "name": "stdout",
     "output_type": "stream",
     "text": [
      "inputs: '我 要 客观', predict: '中性' , label: '中性'\n",
      "inputs: '靠 你 真是 说 废话 吗', predict: '消极' , label: '消极'\n",
      "inputs: '口嗅 会', predict: '中性' , label: '中性'\n",
      "inputs: '每次 是 表妹 带 窝 飞 因为 窝路痴', predict: '中性' , label: '中性'\n",
      "inputs: '别说 废话 我 问 你 个 问题', predict: '消极' , label: '消极'\n",
      "inputs: '4967 是 新加坡 那 家 银行', predict: '中性' , label: '中性'\n",
      "inputs: '是 我 喜欢 兔子', predict: '积极' , label: '积极'\n",
      "inputs: '你 写 过 黄山 奇石 吗', predict: '中性' , label: '中性'\n",
      "inputs: '一个一个 慢慢来', predict: '中性' , label: '中性'\n",
      "inputs: '我 玩 过 这个 一点 都 不 好玩', predict: '消极' , label: '消极'\n",
      "inputs: '网上 开发 女孩 的 QQ', predict: '中性' , label: '中性'\n",
      "inputs: '背 你 猜 对 了', predict: '中性' , label: '中性'\n",
      "inputs: '我 讨厌 你 ， 哼哼 哼 。 。', predict: '消极' , label: '消极'\n"
     ]
    }
   ],
   "source": [
    "from mindspore import Tensor\n",
    "\n",
    "for label, text in dataset_infer:\n",
    "    predict(text, label)"
   ]
  },
  {
   "cell_type": "markdown",
   "metadata": {},
   "source": [
    "## 自定义推理数据集\n",
    "\n",
    "自己输入推理数据，展示模型的泛化能力。"
   ]
  },
  {
   "cell_type": "code",
   "execution_count": 32,
   "metadata": {
    "tags": []
   },
   "outputs": [
    {
     "name": "stdout",
     "output_type": "stream",
     "text": [
      "inputs: '家人们咱就是说一整个无语住了 绝绝子叠buff', predict: '中性'\n"
     ]
    }
   ],
   "source": [
    "predict(\"家人们咱就是说一整个无语住了 绝绝子叠buff\")"
   ]
  },
  {
   "cell_type": "code",
   "execution_count": null,
   "metadata": {},
   "outputs": [],
   "source": []
  }
 ],
 "metadata": {
  "AIGalleryInfo": {
   "item_id": "5443b528-0dd5-4909-ac4f-1c9cf839e2aa"
  },
  "flavorInfo": {
   "architecture": "X86_64",
   "category": "GPU"
  },
  "imageInfo": {
   "id": "e1a07296-22a8-4f05-8bc8-e936c8e54202",
   "name": "mindspore1.7.0-cuda10.1-py3.7-ubuntu18.04"
  },
  "kernelspec": {
   "display_name": "MindSpore",
   "language": "python",
   "name": "mindspore"
  },
  "language_info": {
   "codemirror_mode": {
    "name": "ipython",
    "version": 3
   },
   "file_extension": ".py",
   "mimetype": "text/x-python",
   "name": "python",
   "nbconvert_exporter": "python",
   "pygments_lexer": "ipython3",
   "version": "3.9.18"
  }
 },
 "nbformat": 4,
 "nbformat_minor": 4
}
